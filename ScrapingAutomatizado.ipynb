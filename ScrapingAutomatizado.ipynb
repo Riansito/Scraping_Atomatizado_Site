{
 "cells": [
  {
   "cell_type": "markdown",
   "metadata": {},
   "source": [
    "# Scrping do site Estante Virtual"
   ]
  },
  {
   "cell_type": "markdown",
   "metadata": {},
   "source": [
    "## Importação de bibliotecas"
   ]
  },
  {
   "cell_type": "code",
   "execution_count": 115,
   "metadata": {},
   "outputs": [],
   "source": [
    "from selenium import webdriver #Vai me premitir fazer as automações do meu computador para o navegador\n",
    "from webdriver_manager.chrome import ChromeDriverManager #WebDrive do Chorme que me permitirá acessar todas as infomções da web no Chrome\n",
    "from selenium.webdriver.chrome.service import Service #Me permitirá ter sempre a versão autualizada do webdriver do Chrome par que eu não precise instalar manualmente\n",
    "from selenium.webdriver.common.by import By #Me permitirá fazer o scrping do site através das tags, class, xpath...\n",
    "import pandas as pd #Me permitirará fazer uma base de dados com o dicionario que vai conter as infomações dos livros"
   ]
  },
  {
   "cell_type": "code",
   "execution_count": 116,
   "metadata": {},
   "outputs": [],
   "source": [
    "service=Service(ChromeDriverManager().install())#Instalando  o webdriver atualizado do Chrome\n",
    "\n",
    "navegator=webdriver.Chrome(service=service)#Criando conexão do meu notebook para o navegador Chrome"
   ]
  },
  {
   "cell_type": "code",
   "execution_count": 136,
   "metadata": {},
   "outputs": [],
   "source": [
    "#Listas com as principais informações dos livros\n",
    "names=[]\n",
    "quantBooksPage=[] #Saber a quantidade de livros que contém na pagina do site para que eu possa clicar em todos eles e reitrar informações\n",
    "authors=[]\n",
    "prices=[]\n",
    "years=[]\n",
    "publisher=[]\n",
    "#Biblioteca que vai armazenar os dados dos livros\n",
    "books={}"
   ]
  },
  {
   "cell_type": "code",
   "execution_count": 128,
   "metadata": {},
   "outputs": [],
   "source": [
    "navegator.get(f\"https://www.estantevirtual.com.br/busca?editora=claro-enigma&page={1}\") #Acessando o site\n"
   ]
  },
  {
   "cell_type": "code",
   "execution_count": 131,
   "metadata": {},
   "outputs": [
    {
     "data": {
      "text/plain": [
       "44"
      ]
     },
     "execution_count": 131,
     "metadata": {},
     "output_type": "execute_result"
    }
   ],
   "source": [
    "namesWeb=navegator.find_element(By.CLASS_NAME, \"product-list__items\").find_elements(By.TAG_NAME, \"h2\") #Pegando as informações dos nomes de todos os livros \n",
    "for nome in namesWeb:\n",
    "    names.append(nome.text)#Adicionando os nomes na lista de nomes\n",
    "len(names)#Analisando o tamanho da lista  para que no final eu ver se todas a lista tem a mesma quantidade de elemnetos, desse modo, sendo possível a criação do dataframe."
   ]
  },
  {
   "cell_type": "code",
   "execution_count": 132,
   "metadata": {},
   "outputs": [
    {
     "data": {
      "text/plain": [
       "44"
      ]
     },
     "execution_count": 132,
     "metadata": {},
     "output_type": "execute_result"
    }
   ],
   "source": [
    "authorsWeb=navegator.find_element(By.CLASS_NAME, \"product-list__items\").find_elements(By.CLASS_NAME, \"product-item__author\")#Pegando as informações dos autores de todos os livros \n",
    "for author in authorsWeb:\n",
    "    authors.append(author.text)#Adicionando os autores na lista dos autores\n",
    "len(authors)"
   ]
  },
  {
   "cell_type": "code",
   "execution_count": 133,
   "metadata": {},
   "outputs": [
    {
     "data": {
      "text/plain": [
       "44"
      ]
     },
     "execution_count": 133,
     "metadata": {},
     "output_type": "execute_result"
    }
   ],
   "source": [
    "pricesWeb=navegator.find_element(By.CLASS_NAME, \"product-list__items\").find_elements(By.CLASS_NAME, \"product-item__text--darken\")#Pegando as informações dos nomes de todos os prços\n",
    "for price in pricesWeb:\n",
    "    prices.append(price.text)#Adicionando os preços na lista dos preçoes\n",
    "len(prices)"
   ]
  },
  {
   "cell_type": "code",
   "execution_count": 134,
   "metadata": {},
   "outputs": [
    {
     "name": "stdout",
     "output_type": "stream",
     "text": [
      "44 44\n"
     ]
    }
   ],
   "source": [
    "#Analisando as informações de Ano de publicação e editora. Essas informaçoes só sao possíveis de serem coletadas se entra no menu do livro, então fiz o for para entrar no menu\n",
    "#De todos os livros para extrair essas informações\n",
    "for c in range(len(names)):\n",
    "    navegator.find_element(By.CLASS_NAME, \"product-list__items\").find_elements(By.TAG_NAME, \"h2\")[c].click() #Entrando no perfi de cada livro com base no nome do livro\n",
    "    try: #Essa verificação foi feita para se casso o livro não tenha as informações ele coloque no lugar o testo \"sem registro\"\n",
    "        ano=navegator.find_element(By.CLASS_NAME, \"book-attributes\").find_element(By.CLASS_NAME, \"book-attributes__item--year\").text.split()[1] #Extraindo o Ano de publicação do livros\n",
    "        years.append(ano) #adicionando o valor do ano na lista\n",
    "    except:\n",
    "        years.append(\"Sem registros\")#Caso não tenha o valor do ano, vai ser adicionado o calor \"Sem registro\"\n",
    "    try:\n",
    "        editora=navegator.find_element(By.CLASS_NAME, \"book-attributes\").find_elements(By.TAG_NAME, \"a\")[0].text #Extraindo o nome da editora do livro\n",
    "        publisher.append(editora)#adicionando o valor do ano na lista\n",
    "    except:\n",
    "        publisher.append(\"Sem registros\")#Caso não tenha o valor do ano, vai ser adicionado o calor \"Sem registro\"\n",
    "    navegator.back()\n",
    "print(len(years), len(publisher))#Analisando o tamanho das listas para sbaer se todas as listas tem a mesma quantidade elemntos\n"
   ]
  },
  {
   "cell_type": "code",
   "execution_count": 137,
   "metadata": {},
   "outputs": [],
   "source": [
    "#Automatizando para que seja extraido as informações dos livros de todas as paginas do site da Estante Virtual \n",
    "names=[]\n",
    "quantBooksPage=[]\n",
    "authors=[]\n",
    "prices=[]\n",
    "years=[]\n",
    "publisher=[]\n",
    "books={}\n",
    "quantPages=2 #Extrair as informações dos livros das primeiras duas paginas do site \n",
    "for c in range(quantPages):\n",
    "    quantBooksPage=[]\n",
    "    navegator.get(f\"https://www.estantevirtual.com.br/busca?editora=claro-enigma&page={c+1}\")\n",
    "    namesWeb=navegator.find_element(By.CLASS_NAME, \"product-list__items\").find_elements(By.TAG_NAME, \"h2\")\n",
    "    for nome in namesWeb:   \n",
    "        names.append(nome.text)\n",
    "        quantBooksPage.append(nome.text)\n",
    "    authorsWeb=navegator.find_element(By.CLASS_NAME, \"product-list__items\").find_elements(By.CLASS_NAME, \"product-item__author\")\n",
    "    for author in authorsWeb:\n",
    "        authors.append(author.text)\n",
    "    pricesWeb=navegator.find_element(By.CLASS_NAME, \"product-list__items\").find_elements(By.CLASS_NAME, \"product-item__text--darken\")\n",
    "    for price in pricesWeb:\n",
    "        prices.append(price.text)\n",
    "\n",
    "    for c in range(len(quantBooksPage)):\n",
    "        navegator.find_element(By.CLASS_NAME, \"product-list__items\").find_elements(By.TAG_NAME, \"h2\")[c].click()\n",
    "        try:\n",
    "            ano=navegator.find_element(By.CLASS_NAME, \"book-attributes\").find_element(By.CLASS_NAME, \"book-attributes__item--year\").text.split()[1]\n",
    "            editora=navegator.find_element(By.CLASS_NAME, \"book-attributes\").find_elements(By.TAG_NAME, \"a\")[0].text\n",
    "            years.append(ano)\n",
    "            publisher.append(editora)\n",
    "        except:\n",
    "            years.append(\"Sem registros\")\n",
    "            publisher.append(\"Sem registros\")\n",
    "        navegator.back()\n",
    "#Adicionando os falores das listas ao dicionario\n",
    "books[\"Nome\"]=names\n",
    "books[\"Autor\"]=authors\n",
    "books[\"Editora\"]=publisher\n",
    "books[\"Ano\"]=years\n",
    "books[\"preço\"]=prices\n",
    "#Criando o dataframe\n",
    "df=pd.DataFrame(books)\n",
    "#criando o arquivo  CSV que será usado na analise\n",
    "df.to_csv(\"ScrapingBooks.csv\")\n",
    "\n",
    "\n",
    "    \n",
    "    "
   ]
  },
  {
   "cell_type": "code",
   "execution_count": 138,
   "metadata": {},
   "outputs": [
    {
     "data": {
      "text/html": [
       "<div>\n",
       "<style scoped>\n",
       "    .dataframe tbody tr th:only-of-type {\n",
       "        vertical-align: middle;\n",
       "    }\n",
       "\n",
       "    .dataframe tbody tr th {\n",
       "        vertical-align: top;\n",
       "    }\n",
       "\n",
       "    .dataframe thead th {\n",
       "        text-align: right;\n",
       "    }\n",
       "</style>\n",
       "<table border=\"1\" class=\"dataframe\">\n",
       "  <thead>\n",
       "    <tr style=\"text-align: right;\">\n",
       "      <th></th>\n",
       "      <th>Nome</th>\n",
       "      <th>Autor</th>\n",
       "      <th>Editora</th>\n",
       "      <th>Ano</th>\n",
       "      <th>preço</th>\n",
       "    </tr>\n",
       "  </thead>\n",
       "  <tbody>\n",
       "    <tr>\n",
       "      <th>0</th>\n",
       "      <td>A idade média passo a passo</td>\n",
       "      <td>Vincent Carpentier</td>\n",
       "      <td>Claro Enigma</td>\n",
       "      <td>2014</td>\n",
       "      <td>R$ 10,02</td>\n",
       "    </tr>\n",
       "    <tr>\n",
       "      <th>1</th>\n",
       "      <td>Cidadania: um projeto em construção</td>\n",
       "      <td>Andre Botelho e Lilia Moritz Schwarcz</td>\n",
       "      <td>Claro Enigma</td>\n",
       "      <td>2013</td>\n",
       "      <td>R$ 6,00</td>\n",
       "    </tr>\n",
       "    <tr>\n",
       "      <th>2</th>\n",
       "      <td>O que é arte contemporânea?</td>\n",
       "      <td>Klein, Jacky E Klein, Suzy</td>\n",
       "      <td>Claro Enigma</td>\n",
       "      <td>2019</td>\n",
       "      <td>R$ 15,00</td>\n",
       "    </tr>\n",
       "    <tr>\n",
       "      <th>3</th>\n",
       "      <td>A Grécia antiga passo a passo</td>\n",
       "      <td>Eric Dars</td>\n",
       "      <td>Claro Enigma</td>\n",
       "      <td>2015</td>\n",
       "      <td>R$ 16,89</td>\n",
       "    </tr>\n",
       "    <tr>\n",
       "      <th>4</th>\n",
       "      <td>A pré-história passo a passo</td>\n",
       "      <td>Hildegard Feist; Colette Swinnen; Loic Mehee</td>\n",
       "      <td>Claro Enigma</td>\n",
       "      <td>2014</td>\n",
       "      <td>R$ 6,00</td>\n",
       "    </tr>\n",
       "    <tr>\n",
       "      <th>...</th>\n",
       "      <td>...</td>\n",
       "      <td>...</td>\n",
       "      <td>...</td>\n",
       "      <td>...</td>\n",
       "      <td>...</td>\n",
       "    </tr>\n",
       "    <tr>\n",
       "      <th>83</th>\n",
       "      <td>A Pré-história Passo a Passo</td>\n",
       "      <td>Collete Swinnen</td>\n",
       "      <td>Claro Enigma</td>\n",
       "      <td>2010</td>\n",
       "      <td>R$ 25,00</td>\n",
       "    </tr>\n",
       "    <tr>\n",
       "      <th>84</th>\n",
       "      <td>Crescente 1977-1990</td>\n",
       "      <td>Duda Machado</td>\n",
       "      <td>Claro Enigma</td>\n",
       "      <td>1990</td>\n",
       "      <td>R$ 165,00</td>\n",
       "    </tr>\n",
       "    <tr>\n",
       "      <th>85</th>\n",
       "      <td>Crescente 1977-1990</td>\n",
       "      <td>Duda Machado Com Dedicatoria</td>\n",
       "      <td>Claro Enigma</td>\n",
       "      <td>1990</td>\n",
       "      <td>R$ 278,00</td>\n",
       "    </tr>\n",
       "    <tr>\n",
       "      <th>86</th>\n",
       "      <td>Minima Lirica (1982-1989)</td>\n",
       "      <td>Paulo Henriques Britto</td>\n",
       "      <td>Claro Enigma</td>\n",
       "      <td>1989</td>\n",
       "      <td>R$ 58,00</td>\n",
       "    </tr>\n",
       "    <tr>\n",
       "      <th>87</th>\n",
       "      <td>Pipistrelo das Mil Cores</td>\n",
       "      <td>Zelia Gattai</td>\n",
       "      <td>Claro Enigma</td>\n",
       "      <td>2013</td>\n",
       "      <td>R$ 10,00</td>\n",
       "    </tr>\n",
       "  </tbody>\n",
       "</table>\n",
       "<p>88 rows × 5 columns</p>\n",
       "</div>"
      ],
      "text/plain": [
       "                                   Nome  \\\n",
       "0           A idade média passo a passo   \n",
       "1   Cidadania: um projeto em construção   \n",
       "2           O que é arte contemporânea?   \n",
       "3         A Grécia antiga passo a passo   \n",
       "4          A pré-história passo a passo   \n",
       "..                                  ...   \n",
       "83         A Pré-história Passo a Passo   \n",
       "84                  Crescente 1977-1990   \n",
       "85                  Crescente 1977-1990   \n",
       "86            Minima Lirica (1982-1989)   \n",
       "87             Pipistrelo das Mil Cores   \n",
       "\n",
       "                                           Autor       Editora   Ano  \\\n",
       "0                             Vincent Carpentier  Claro Enigma  2014   \n",
       "1          Andre Botelho e Lilia Moritz Schwarcz  Claro Enigma  2013   \n",
       "2                     Klein, Jacky E Klein, Suzy  Claro Enigma  2019   \n",
       "3                                      Eric Dars  Claro Enigma  2015   \n",
       "4   Hildegard Feist; Colette Swinnen; Loic Mehee  Claro Enigma  2014   \n",
       "..                                           ...           ...   ...   \n",
       "83                               Collete Swinnen  Claro Enigma  2010   \n",
       "84                                  Duda Machado  Claro Enigma  1990   \n",
       "85                  Duda Machado Com Dedicatoria  Claro Enigma  1990   \n",
       "86                        Paulo Henriques Britto  Claro Enigma  1989   \n",
       "87                                  Zelia Gattai  Claro Enigma  2013   \n",
       "\n",
       "        preço  \n",
       "0    R$ 10,02  \n",
       "1     R$ 6,00  \n",
       "2    R$ 15,00  \n",
       "3    R$ 16,89  \n",
       "4     R$ 6,00  \n",
       "..        ...  \n",
       "83   R$ 25,00  \n",
       "84  R$ 165,00  \n",
       "85  R$ 278,00  \n",
       "86   R$ 58,00  \n",
       "87   R$ 10,00  \n",
       "\n",
       "[88 rows x 5 columns]"
      ]
     },
     "execution_count": 138,
     "metadata": {},
     "output_type": "execute_result"
    }
   ],
   "source": [
    "df #Mostrando o dataframe"
   ]
  }
 ],
 "metadata": {
  "kernelspec": {
   "display_name": "base",
   "language": "python",
   "name": "python3"
  },
  "language_info": {
   "codemirror_mode": {
    "name": "ipython",
    "version": 3
   },
   "file_extension": ".py",
   "mimetype": "text/x-python",
   "name": "python",
   "nbconvert_exporter": "python",
   "pygments_lexer": "ipython3",
   "version": "3.12.4"
  }
 },
 "nbformat": 4,
 "nbformat_minor": 2
}
